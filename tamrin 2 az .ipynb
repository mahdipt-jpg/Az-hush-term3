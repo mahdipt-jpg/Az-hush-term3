{
 "cells": [
  {
   "cell_type": "code",
   "execution_count": 1,
   "id": "4d132da8-6ef4-4f99-ad72-94b25f241c24",
   "metadata": {},
   "outputs": [],
   "source": [
    "def f(w, x, y):\n",
    "    n = len(x)\n",
    "    return sum((y[i] - w * x[i])**2 for i in range(5, n))"
   ]
  },
  {
   "cell_type": "code",
   "execution_count": 2,
   "id": "95fefa05-69c0-466a-9e43-b3a9cde75cd2",
   "metadata": {},
   "outputs": [
    {
     "name": "stdout",
     "output_type": "stream",
     "text": [
      "275.56000000000006\n"
     ]
    }
   ],
   "source": [
    "x = [1, 5, 9, 17, 2, 4]\n",
    "y = [22, 10, 45, 55, 2, 19]\n",
    "w = 0.6\n",
    "\n",
    "print(f(w, x, y))"
   ]
  },
  {
   "cell_type": "code",
   "execution_count": null,
   "id": "82b03edb-d739-4c24-87f0-622d525eea10",
   "metadata": {},
   "outputs": [],
   "source": []
  }
 ],
 "metadata": {
  "kernelspec": {
   "display_name": "Python 3 (ipykernel)",
   "language": "python",
   "name": "python3"
  },
  "language_info": {
   "codemirror_mode": {
    "name": "ipython",
    "version": 3
   },
   "file_extension": ".py",
   "mimetype": "text/x-python",
   "name": "python",
   "nbconvert_exporter": "python",
   "pygments_lexer": "ipython3",
   "version": "3.12.1"
  }
 },
 "nbformat": 4,
 "nbformat_minor": 5
}
